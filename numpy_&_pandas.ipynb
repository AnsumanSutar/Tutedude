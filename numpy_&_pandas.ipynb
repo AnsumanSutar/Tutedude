{
 "cells": [
  {
   "cell_type": "markdown",
   "id": "5435c5ce",
   "metadata": {},
   "source": [
    "# Assignment 1 (numpy)"
   ]
  },
  {
   "cell_type": "markdown",
   "id": "c7d0dc16",
   "metadata": {},
   "source": [
    "## 1.Create a 1D NumPy array with integers from 1 to 20. Perform the following operations:"
   ]
  },
  {
   "cell_type": "markdown",
   "id": "e6f90771",
   "metadata": {},
   "source": [
    "### a. Calculate the sum, mean, median, and standard deviation of the elements in the array."
   ]
  },
  {
   "cell_type": "code",
   "execution_count": null,
   "id": "49dfdcd6",
   "metadata": {},
   "outputs": [
    {
     "name": "stdout",
     "output_type": "stream",
     "text": [
      "Array: [ 1  2  3  4  5  6  7  8  9 10 11 12 13 14 15 16 17 18 19 20]\n",
      "Sum: 210\n",
      "Mean: 10.5\n",
      "Median: 10.5\n",
      "Standard Deviation: 5.766281297335398\n"
     ]
    }
   ],
   "source": [
    "import numpy as np\n",
    "\n",
    "arr1d = np.arange(1, 21)\n",
    "\n",
    "arr_sum = np.sum(arr1d)\n",
    "arr_mean = np.mean(arr1d)\n",
    "arr_median = np.median(arr1d)\n",
    "arr_std = np.std(arr1d)\n",
    "\n",
    "print(\"Array:\", arr1d)\n",
    "print(\"Sum:\", arr_sum)\n",
    "print(\"Mean:\", arr_mean)\n",
    "print(\"Median:\", arr_median)\n",
    "print(\"Standard Deviation:\", arr_std)\n"
   ]
  },
  {
   "cell_type": "markdown",
   "id": "64f1f77d",
   "metadata": {},
   "source": [
    "### b. Find the indices of elements greater than 10 in the array."
   ]
  },
  {
   "cell_type": "code",
   "execution_count": 3,
   "id": "203f99a3",
   "metadata": {},
   "outputs": [
    {
     "name": "stdout",
     "output_type": "stream",
     "text": [
      "Indices of elements > 10: [10 11 12 13 14 15 16 17 18 19]\n"
     ]
    }
   ],
   "source": [
    "indices_gt_10 = np.where(arr1d > 10)[0]\n",
    "print(\"Indices of elements > 10:\", indices_gt_10)"
   ]
  },
  {
   "cell_type": "markdown",
   "id": "96ba3247",
   "metadata": {},
   "source": [
    "## 2. Create a 2D NumPy array of shape 4 X 4 with numbers ranging from 1 to 16."
   ]
  },
  {
   "cell_type": "markdown",
   "id": "4e1691fe",
   "metadata": {},
   "source": [
    "### a. Print the array.\n"
   ]
  },
  {
   "cell_type": "code",
   "execution_count": 4,
   "id": "01ea7e7e",
   "metadata": {},
   "outputs": [
    {
     "name": "stdout",
     "output_type": "stream",
     "text": [
      "4x4 Array:\n",
      " [[ 1  2  3  4]\n",
      " [ 5  6  7  8]\n",
      " [ 9 10 11 12]\n",
      " [13 14 15 16]]\n"
     ]
    }
   ],
   "source": [
    "arr2d = np.arange(1, 17).reshape(4, 4)\n",
    "print(\"4x4 Array:\\n\", arr2d)\n"
   ]
  },
  {
   "cell_type": "markdown",
   "id": "850de4b3",
   "metadata": {},
   "source": [
    "###  b. Find the transpose of the array.  \n"
   ]
  },
  {
   "cell_type": "code",
   "execution_count": 5,
   "id": "2b11da47",
   "metadata": {},
   "outputs": [
    {
     "name": "stdout",
     "output_type": "stream",
     "text": [
      "Transpose:\n",
      " [[ 1  5  9 13]\n",
      " [ 2  6 10 14]\n",
      " [ 3  7 11 15]\n",
      " [ 4  8 12 16]]\n"
     ]
    }
   ],
   "source": [
    "arr2d_T = arr2d.T\n",
    "print(\"Transpose:\\n\", arr2d_T)\n"
   ]
  },
  {
   "cell_type": "markdown",
   "id": "ad0c51c0",
   "metadata": {},
   "source": [
    "### c. Calculate the row-wise and column-wise sums of the array.\n"
   ]
  },
  {
   "cell_type": "code",
   "execution_count": 6,
   "id": "de618b3a",
   "metadata": {},
   "outputs": [
    {
     "name": "stdout",
     "output_type": "stream",
     "text": [
      "Row-wise sums: [10 26 42 58]\n",
      "Column-wise sums: [28 32 36 40]\n"
     ]
    }
   ],
   "source": [
    "row_sums = np.sum(arr2d, axis=1)\n",
    "col_sums = np.sum(arr2d, axis=0)\n",
    "print(\"Row-wise sums:\", row_sums)\n",
    "print(\"Column-wise sums:\", col_sums)"
   ]
  },
  {
   "cell_type": "markdown",
   "id": "36c801f8",
   "metadata": {},
   "source": [
    "## 3. Create two 3 X 3 arrays filled with random integers between 1 and 20."
   ]
  },
  {
   "cell_type": "markdown",
   "id": "4947b55e",
   "metadata": {},
   "source": [
    "### a. Perform element-wise addition, subtraction, and multiplication.  "
   ]
  },
  {
   "cell_type": "code",
   "execution_count": null,
   "id": "59206f14",
   "metadata": {},
   "outputs": [
    {
     "name": "stdout",
     "output_type": "stream",
     "text": [
      "Array a:\n",
      " [[13 16  1]\n",
      " [ 4  4  8]\n",
      " [10 20 19]]\n",
      "Array b:\n",
      " [[ 5  7 13]\n",
      " [ 2  7  8]\n",
      " [15 18  6]]\n",
      "Addition:\n",
      " [[18 23 14]\n",
      " [ 6 11 16]\n",
      " [25 38 25]]\n",
      "Subtraction:\n",
      " [[  8   9 -12]\n",
      " [  2  -3   0]\n",
      " [ -5   2  13]]\n",
      "Multiplication:\n",
      " [[ 65 112  13]\n",
      " [  8  28  64]\n",
      " [150 360 114]]\n"
     ]
    }
   ],
   "source": [
    "np.random.seed(0) \n",
    "a = np.random.randint(1, 21, size=(3, 3))\n",
    "b = np.random.randint(1, 21, size=(3, 3))\n",
    "\n",
    "print(\"Array a:\\n\", a)\n",
    "print(\"Array b:\\n\", b)\n",
    "\n",
    "add = a + b\n",
    "sub = a - b\n",
    "mul = a * b\n",
    "\n",
    "print(\"Addition:\\n\", add)\n",
    "print(\"Subtraction:\\n\", sub)\n",
    "print(\"Multiplication:\\n\", mul)\n"
   ]
  },
  {
   "cell_type": "markdown",
   "id": "e2e0022e",
   "metadata": {},
   "source": [
    "### b. Compute the dot product of the two arrays.\n"
   ]
  },
  {
   "cell_type": "code",
   "execution_count": 8,
   "id": "ef2ff38a",
   "metadata": {},
   "outputs": [
    {
     "name": "stdout",
     "output_type": "stream",
     "text": [
      "Dot Product:\n",
      " [[112 221 303]\n",
      " [148 200 132]\n",
      " [375 552 404]]\n"
     ]
    }
   ],
   "source": [
    "dot_product = np.dot(a, b)\n",
    "print(\"Dot Product:\\n\", dot_product)\n"
   ]
  },
  {
   "cell_type": "markdown",
   "id": "051898af",
   "metadata": {},
   "source": [
    "## 4. Reshape a 1D array of size 12 into a 3 X 4 2D array and slice the first two rows and last two columns."
   ]
  },
  {
   "cell_type": "code",
   "execution_count": null,
   "id": "700f0a96",
   "metadata": {},
   "outputs": [
    {
     "name": "stdout",
     "output_type": "stream",
     "text": [
      "3x4 Array:\n",
      " [[ 1  2  3  4]\n",
      " [ 5  6  7  8]\n",
      " [ 9 10 11 12]]\n",
      "First two rows, last two columns:\n",
      " [[3 4]\n",
      " [7 8]]\n"
     ]
    }
   ],
   "source": [
    "arr12 = np.arange(1, 13)\n",
    "arr3x4 = arr12.reshape(3, 4)\n",
    "print(\"3x4 Array:\\n\", arr3x4)\n",
    "\n",
    "sliced = arr3x4[:2, -2:]\n",
    "print(\"First two rows, last two columns:\\n\", sliced)\n"
   ]
  },
  {
   "cell_type": "markdown",
   "id": "0879c994",
   "metadata": {},
   "source": [
    "# Assignment 2 (pandas)"
   ]
  },
  {
   "cell_type": "markdown",
   "id": "d076c225",
   "metadata": {},
   "source": [
    "## 1. Create a DataFrame with the following data:  \n",
    "  data = {\n",
    "      'Name': ['Alice', 'Bob', 'Charlie', 'Diana', 'Eve'],\n",
    "      'Age': [24, 27, 22, 32, 29],\n",
    "      'Department': ['HR', 'Finance', 'IT', 'Marketing', 'HR'],\n",
    "      'Salary': [45000, 54000, 50000, 62000, 47000]\n",
    "  }\n",
    "  "
   ]
  },
  {
   "cell_type": "markdown",
   "id": "ec35e25f",
   "metadata": {},
   "source": [
    "### a. Print the first five rows of the DataFrame."
   ]
  },
  {
   "cell_type": "code",
   "execution_count": 4,
   "id": "448e1988",
   "metadata": {},
   "outputs": [
    {
     "name": "stdout",
     "output_type": "stream",
     "text": [
      "      Name  Age Department  Salary\n",
      "0    Alice   24         HR   45000\n",
      "1      Bob   27    Finance   54000\n",
      "2  Charlie   22         IT   50000\n",
      "3    Diana   32  Marketing   62000\n",
      "4      Eve   29         HR   47000\n"
     ]
    }
   ],
   "source": [
    "import pandas as pd\n",
    "data = {\n",
    "    'Name': ['Alice', 'Bob', 'Charlie', 'Diana', 'Eve'],\n",
    "    'Age': [24, 27, 22, 32, 29],\n",
    "    'Department': ['HR', 'Finance', 'IT', 'Marketing', 'HR'],\n",
    "    'Salary': [45000, 54000, 50000, 62000, 47000]\n",
    "}\n",
    "df = pd.DataFrame(data)\n",
    "print(df.head())\n"
   ]
  },
  {
   "cell_type": "markdown",
   "id": "9ac1368a",
   "metadata": {},
   "source": [
    "### b. Get the summary statistics of the 'Age' and 'Salary' columns."
   ]
  },
  {
   "cell_type": "code",
   "execution_count": 5,
   "id": "58b2476c",
   "metadata": {},
   "outputs": [
    {
     "name": "stdout",
     "output_type": "stream",
     "text": [
      "             Age        Salary\n",
      "count   5.000000      5.000000\n",
      "mean   26.800000  51600.000000\n",
      "std     3.962323   6730.527468\n",
      "min    22.000000  45000.000000\n",
      "25%    24.000000  47000.000000\n",
      "50%    27.000000  50000.000000\n",
      "75%    29.000000  54000.000000\n",
      "max    32.000000  62000.000000\n"
     ]
    }
   ],
   "source": [
    "print(df[['Age', 'Salary']].describe())"
   ]
  },
  {
   "cell_type": "markdown",
   "id": "8dea4dad",
   "metadata": {},
   "source": [
    "### c. Calculate the average salary of employees in the 'HR' department."
   ]
  },
  {
   "cell_type": "code",
   "execution_count": 6,
   "id": "d22e11ff",
   "metadata": {},
   "outputs": [
    {
     "name": "stdout",
     "output_type": "stream",
     "text": [
      "Average salary in HR: 46000.0\n"
     ]
    }
   ],
   "source": [
    "hr_avg_salary = df[df['Department'] == 'HR']['Salary'].mean()\n",
    "print(\"Average salary in HR:\", hr_avg_salary)\n"
   ]
  },
  {
   "cell_type": "markdown",
   "id": "bd3712e6",
   "metadata": {},
   "source": [
    "## 2. Add a new column, 'Bonus', which is 10% of the salary."
   ]
  },
  {
   "cell_type": "code",
   "execution_count": 7,
   "id": "3bec6326",
   "metadata": {},
   "outputs": [
    {
     "name": "stdout",
     "output_type": "stream",
     "text": [
      "      Name  Age Department  Salary   Bonus\n",
      "0    Alice   24         HR   45000  4500.0\n",
      "1      Bob   27    Finance   54000  5400.0\n",
      "2  Charlie   22         IT   50000  5000.0\n",
      "3    Diana   32  Marketing   62000  6200.0\n",
      "4      Eve   29         HR   47000  4700.0\n"
     ]
    }
   ],
   "source": [
    "df['Bonus'] = df['Salary'] * 0.10\n",
    "print(df)\n"
   ]
  },
  {
   "cell_type": "markdown",
   "id": "a9320209",
   "metadata": {},
   "source": [
    "## 3. Filter the DataFrame to show employees aged between 25 and 30."
   ]
  },
  {
   "cell_type": "code",
   "execution_count": 8,
   "id": "6800734b",
   "metadata": {},
   "outputs": [
    {
     "name": "stdout",
     "output_type": "stream",
     "text": [
      "  Name  Age Department  Salary   Bonus\n",
      "1  Bob   27    Finance   54000  5400.0\n",
      "4  Eve   29         HR   47000  4700.0\n"
     ]
    }
   ],
   "source": [
    "filtered = df[(df['Age'] >= 25) & (df['Age'] <= 30)]\n",
    "print(filtered)\n"
   ]
  },
  {
   "cell_type": "markdown",
   "id": "9f98dedc",
   "metadata": {},
   "source": [
    "## 4. Group the data by 'Department' and calculate the average salary for each department."
   ]
  },
  {
   "cell_type": "code",
   "execution_count": 9,
   "id": "6f6f3da3",
   "metadata": {},
   "outputs": [
    {
     "name": "stdout",
     "output_type": "stream",
     "text": [
      "Department\n",
      "Finance      54000.0\n",
      "HR           46000.0\n",
      "IT           50000.0\n",
      "Marketing    62000.0\n",
      "Name: Salary, dtype: float64\n"
     ]
    }
   ],
   "source": [
    "dept_avg_salary = df.groupby('Department')['Salary'].mean()\n",
    "print(dept_avg_salary)\n"
   ]
  },
  {
   "cell_type": "markdown",
   "id": "eaffcc43",
   "metadata": {},
   "source": [
    "## 5. Sort the DataFrame by 'Salary' in ascending order and save the result to a new CSV file."
   ]
  },
  {
   "cell_type": "code",
   "execution_count": 10,
   "id": "bcea203d",
   "metadata": {},
   "outputs": [
    {
     "name": "stdout",
     "output_type": "stream",
     "text": [
      "      Name  Age Department  Salary   Bonus\n",
      "0    Alice   24         HR   45000  4500.0\n",
      "4      Eve   29         HR   47000  4700.0\n",
      "2  Charlie   22         IT   50000  5000.0\n",
      "1      Bob   27    Finance   54000  5400.0\n",
      "3    Diana   32  Marketing   62000  6200.0\n"
     ]
    }
   ],
   "source": [
    "sorted_df = df.sort_values(by='Salary', ascending=True)\n",
    "print(sorted_df)\n",
    "sorted_df.to_csv('sorted_employees.csv', index=False)\n"
   ]
  },
  {
   "cell_type": "markdown",
   "id": "9cfc58f2",
   "metadata": {},
   "source": [
    "# Assignment 3 (matplotlib)"
   ]
  },
  {
   "cell_type": "markdown",
   "id": "2b436d2e",
   "metadata": {},
   "source": [
    "## 1. Create a simple line plot for the following data:\n",
    "  \n",
    "  x = [1, 2, 3, 4, 5]\n",
    "  y = [10, 15, 25, 30, 50]"
   ]
  },
  {
   "cell_type": "markdown",
   "id": "9c1cf97d",
   "metadata": {},
   "source": [
    "### a. Plot the data."
   ]
  },
  {
   "cell_type": "code",
   "execution_count": 11,
   "id": "b991e57a",
   "metadata": {},
   "outputs": [
    {
     "data": {
      "image/png": "[encoded data removed]",
      "text/plain": [
       "<Figure size 640x480 with 1 Axes>"
      ]
     },
     "metadata": {},
     "output_type": "display_data"
    }
   ],
   "source": [
    "# Step 2: Import Matplotlib\n",
    "import matplotlib.pyplot as plt\n",
    "x = [1, 2, 3, 4, 5]\n",
    "y = [10, 15, 25, 30, 50]\n",
    "\n",
    "plt.plot(x, y, marker='o')\n",
    "plt.title(\"Simple Line Plot\")\n",
    "plt.xlabel(\"X-axis\")\n",
    "plt.ylabel(\"Y-axis\")\n",
    "plt.grid(True)\n",
    "plt.show()\n"
   ]
  },
  {
   "cell_type": "markdown",
   "id": "a31f8d45",
   "metadata": {},
   "source": [
    "### b. Customize the plot by adding a title, axis labels, and a grid"
   ]
  },
  {
   "cell_type": "code",
   "execution_count": 12,
   "id": "dec2eba1",
   "metadata": {},
   "outputs": [
    {
     "data": {
      "image/png": "[encoded data removed]",
      "text/plain": [
       "<Figure size 640x480 with 1 Axes>"
      ]
     },
     "metadata": {},
     "output_type": "display_data"
    }
   ],
   "source": [
    "students = ['John', 'Jane', 'Alice', 'Bob']\n",
    "marks = [75, 85, 60, 90]\n",
    "\n",
    "plt.bar(students, marks, color=['blue', 'green', 'orange', 'red'])\n",
    "plt.title(\"Marks by Student\")\n",
    "plt.xlabel(\"Student\")\n",
    "plt.ylabel(\"Marks\")\n",
    "plt.show()\n"
   ]
  },
  {
   "cell_type": "markdown",
   "id": "f879c5a5",
   "metadata": {},
   "source": [
    "## 2. Create a bar graph to represent the marks scored by students in a subject:  \n",
    "  \n",
    "  students = ['John', 'Jane', 'Alice', 'Bob']\n",
    "  marks = [75, 85, 60, 90]"
   ]
  },
  {
   "cell_type": "markdown",
   "id": "2e9fffa0",
   "metadata": {},
   "source": [
    "### a. Plot the data as a bar graph."
   ]
  },
  {
   "cell_type": "code",
   "execution_count": 13,
   "id": "76e2ab10",
   "metadata": {},
   "outputs": [
    {
     "data": {
      "image/png": "[encoded data removed]",
      "text/plain": [
       "<Figure size 640x480 with 1 Axes>"
      ]
     },
     "metadata": {},
     "output_type": "display_data"
    }
   ],
   "source": [
    "students = ['John', 'Jane', 'Alice', 'Bob']\n",
    "marks = [75, 85, 60, 90]\n",
    "\n",
    "plt.bar(students, marks, color=['blue', 'green', 'orange', 'red'])\n",
    "plt.title(\"Marks by Student\")\n",
    "plt.xlabel(\"Student\")\n",
    "plt.ylabel(\"Marks\")\n",
    "plt.show()\n"
   ]
  },
  {
   "cell_type": "markdown",
   "id": "7f1aeacd",
   "metadata": {},
   "source": [
    "## 3. Create a pie chart to represent the percentage distribution of a company’s revenue from different regions:  \n",
    "  \n",
    "  regions = ['North America', 'Europe', 'Asia', 'Others']\n",
    "  revenue = [45, 25, 20, 10]\n"
   ]
  },
  {
   "cell_type": "markdown",
   "id": "9b1a30d2",
   "metadata": {},
   "source": [
    "### a. Create a pie chart with the region names as labels.\n",
    "### b. Highlight the region with the highest revenue."
   ]
  },
  {
   "cell_type": "code",
   "execution_count": 14,
   "id": "f2f82cdb",
   "metadata": {},
   "outputs": [
    {
     "data": {
      "image/png": "[encoded data removed]",
      "text/plain": [
       "<Figure size 640x480 with 1 Axes>"
      ]
     },
     "metadata": {},
     "output_type": "display_data"
    }
   ],
   "source": [
    "regions = ['North America', 'Europe', 'Asia', 'Others']\n",
    "revenue = [45, 25, 20, 10]\n",
    "\n",
    "explode = [0.1 if r == max(revenue) else 0 for r in revenue]\n",
    "plt.pie(revenue, labels=regions, explode=explode, autopct='%1.1f%%', shadow=True)\n",
    "plt.title(\"Revenue Distribution by Region\")\n",
    "plt.show()\n"
   ]
  },
  {
   "cell_type": "markdown",
   "id": "ad47691a",
   "metadata": {},
   "source": [
    "## 4. Generate a histogram to show the frequency distribution of randomly generated integers between 1 and 100 (sample size = 1000)."
   ]
  },
  {
   "cell_type": "code",
   "execution_count": 18,
   "id": "2fec3038",
   "metadata": {},
   "outputs": [
    {
     "data": {
      "image/png": "[encoded data removed]",
      "text/plain": [
       "<Figure size 640x480 with 1 Axes>"
      ]
     },
     "metadata": {},
     "output_type": "display_data"
    }
   ],
   "source": [
    "import numpy as np\n",
    "data = np.random.randint(1, 101, 1000)\n",
    "plt.hist(data, bins=20, color='purple', edgecolor='black')\n",
    "plt.title(\"Histogram of Random Integers (1–100)\")\n",
    "plt.xlabel(\"Value\")\n",
    "plt.ylabel(\"Frequency\")\n",
    "plt.show()\n"
   ]
  }
 ],
 "metadata": {
  "kernelspec": {
   "display_name": "base",
   "language": "python",
   "name": "python3"
  },
  "language_info": {
   "codemirror_mode": {
    "name": "ipython",
    "version": 3
   },
   "file_extension": ".py",
   "mimetype": "text/x-python",
   "name": "python",
   "nbconvert_exporter": "python",
   "pygments_lexer": "ipython3",
   "version": "3.12.7"
  }
 },
 "nbformat": 4,
 "nbformat_minor": 5
}
